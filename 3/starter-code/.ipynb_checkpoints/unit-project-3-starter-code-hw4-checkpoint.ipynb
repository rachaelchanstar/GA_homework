{
 "cells": [
  {
   "cell_type": "markdown",
   "metadata": {},
   "source": [
    "# SF-DAT-21 | Unit Project 3\n",
    "\n",
    "In this project, you will perform a logistic regression on the admissions data we've been working with in Unit Projects 1 and 2."
   ]
  },
  {
   "cell_type": "code",
   "execution_count": 19,
   "metadata": {
    "collapsed": true
   },
   "outputs": [],
   "source": [
    "import pandas as pd\n",
    "import numpy as np\n",
    "import matplotlib.pyplot as plt\n",
    "import matplotlib.pyplot as plt\n",
    "from sklearn import feature_selection, linear_model\n",
    "import statsmodels.api as sm\n",
    "import pylab as pl\n",
    "%matplotlib inline"
   ]
  },
  {
   "cell_type": "code",
   "execution_count": 3,
   "metadata": {
    "collapsed": false
   },
   "outputs": [
    {
     "name": "stdout",
     "output_type": "stream",
     "text": [
      "   admit  gre   gpa  prestige\n",
      "0      0  380  3.61         3\n",
      "1      1  660  3.67         3\n",
      "2      1  800  4.00         1\n",
      "3      1  640  3.19         4\n",
      "4      0  520  2.93         4\n"
     ]
    }
   ],
   "source": [
    "df_raw = pd.read_csv(\"../../dataset/admissions.csv\")\n",
    "df = df_raw.dropna()\n",
    "print df.head()"
   ]
  },
  {
   "cell_type": "markdown",
   "metadata": {},
   "source": [
    "## Part 1. Frequency Tables\n",
    "\n",
    "#### Question 1. Let's create a frequency table of our variables."
   ]
  },
  {
   "cell_type": "code",
   "execution_count": 4,
   "metadata": {
    "collapsed": false
   },
   "outputs": [
    {
     "name": "stdout",
     "output_type": "stream",
     "text": [
      "1.0 61\n",
      "2.0 148\n",
      "3.0 121\n",
      "4.0 67\n"
     ]
    }
   ],
   "source": [
    "# frequency table for prestige and whether or not someone was admitted\n",
    "for prestige_count in np.sort(df.prestige.dropna().unique()):\n",
    "    print prestige_count, len(df[df.prestige == prestige_count])\n",
    "    "
   ]
  },
  {
   "cell_type": "code",
   "execution_count": 5,
   "metadata": {
    "collapsed": false
   },
   "outputs": [
    {
     "name": "stdout",
     "output_type": "stream",
     "text": [
      "2.26 1\n",
      "2.42 2\n",
      "2.48 1\n",
      "2.52 1\n",
      "2.55 1\n",
      "2.56 1\n",
      "2.62 2\n",
      "2.63 1\n",
      "2.65 1\n",
      "2.67 2\n",
      "2.68 1\n",
      "2.69 1\n",
      "2.7 2\n",
      "2.71 2\n",
      "2.73 1\n",
      "2.76 1\n",
      "2.78 2\n",
      "2.79 2\n",
      "2.81 3\n",
      "2.82 2\n",
      "2.83 1\n",
      "2.84 1\n",
      "2.85 2\n",
      "2.86 2\n",
      "2.88 1\n",
      "2.9 4\n",
      "2.91 3\n",
      "2.92 2\n",
      "2.93 5\n",
      "2.94 3\n",
      "2.95 1\n",
      "2.96 2\n",
      "2.97 2\n",
      "2.98 6\n",
      "3.0 4\n",
      "3.01 2\n",
      "3.02 4\n",
      "3.03 1\n",
      "3.04 2\n",
      "3.05 3\n",
      "3.06 1\n",
      "3.07 4\n",
      "3.08 4\n",
      "3.09 1\n",
      "3.1 1\n",
      "3.11 1\n",
      "3.12 4\n",
      "3.13 5\n",
      "3.14 4\n",
      "3.15 7\n",
      "3.16 2\n",
      "3.17 5\n",
      "3.18 1\n",
      "3.19 5\n",
      "3.2 2\n",
      "3.21 1\n",
      "3.22 5\n",
      "3.23 3\n",
      "3.24 2\n",
      "3.25 2\n",
      "3.27 3\n",
      "3.28 4\n",
      "3.29 2\n",
      "3.3 4\n",
      "3.31 8\n",
      "3.32 4\n",
      "3.33 5\n",
      "3.34 5\n",
      "3.35 7\n",
      "3.36 4\n",
      "3.37 3\n",
      "3.38 5\n",
      "3.39 3\n",
      "3.4 7\n",
      "3.41 1\n",
      "3.42 1\n",
      "3.43 5\n",
      "3.44 3\n",
      "3.45 7\n",
      "3.46 5\n",
      "3.47 3\n",
      "3.48 3\n",
      "3.49 4\n",
      "3.5 4\n",
      "3.51 5\n",
      "3.52 4\n",
      "3.53 2\n",
      "3.54 3\n",
      "3.55 1\n",
      "3.56 3\n",
      "3.57 3\n",
      "3.58 5\n",
      "3.59 5\n",
      "3.6 3\n",
      "3.61 3\n",
      "3.62 2\n",
      "3.63 6\n",
      "3.64 5\n",
      "3.65 4\n",
      "3.66 1\n",
      "3.67 4\n",
      "3.69 3\n",
      "3.7 3\n",
      "3.71 2\n",
      "3.72 1\n",
      "3.73 2\n",
      "3.74 4\n",
      "3.75 2\n",
      "3.76 2\n",
      "3.77 5\n",
      "3.78 4\n",
      "3.8 2\n",
      "3.81 3\n",
      "3.82 1\n",
      "3.83 1\n",
      "3.84 2\n",
      "3.85 1\n",
      "3.86 2\n",
      "3.87 1\n",
      "3.88 3\n",
      "3.89 3\n",
      "3.9 3\n",
      "3.91 1\n",
      "3.92 2\n",
      "3.93 1\n",
      "3.94 5\n",
      "3.95 5\n",
      "3.97 1\n",
      "3.98 1\n",
      "3.99 3\n",
      "4.0 28\n"
     ]
    }
   ],
   "source": [
    "for gpa_count in np.sort(df.gpa.dropna().unique()):\n",
    "    print gpa_count, len(df[df.gpa == gpa_count])"
   ]
  },
  {
   "cell_type": "code",
   "execution_count": 6,
   "metadata": {
    "collapsed": false
   },
   "outputs": [
    {
     "name": "stdout",
     "output_type": "stream",
     "text": [
      "220.0 1\n",
      "300.0 3\n",
      "340.0 4\n",
      "360.0 4\n",
      "380.0 8\n",
      "400.0 11\n",
      "420.0 7\n",
      "440.0 10\n",
      "460.0 13\n",
      "480.0 16\n",
      "500.0 21\n",
      "520.0 24\n",
      "540.0 27\n",
      "560.0 24\n",
      "580.0 28\n",
      "600.0 23\n",
      "620.0 30\n",
      "640.0 21\n",
      "660.0 23\n",
      "680.0 20\n",
      "700.0 22\n",
      "720.0 11\n",
      "740.0 11\n",
      "760.0 5\n",
      "780.0 5\n",
      "800.0 25\n"
     ]
    }
   ],
   "source": [
    "for gre_count in np.sort(df.gre.dropna().unique()):\n",
    "    print gre_count, len(df[df.gre == gre_count])"
   ]
  },
  {
   "cell_type": "markdown",
   "metadata": {},
   "source": [
    "## Part 2. Return of dummy variables"
   ]
  },
  {
   "cell_type": "markdown",
   "metadata": {},
   "source": [
    "#### Question 2.1. Create class or dummy variables for prestige."
   ]
  },
  {
   "cell_type": "code",
   "execution_count": 7,
   "metadata": {
    "collapsed": false
   },
   "outputs": [
    {
     "data": {
      "text/html": [
       "<div>\n",
       "<table border=\"1\" class=\"dataframe\">\n",
       "  <thead>\n",
       "    <tr style=\"text-align: right;\">\n",
       "      <th></th>\n",
       "      <th>prestige_1</th>\n",
       "      <th>prestige_2</th>\n",
       "      <th>prestige_3</th>\n",
       "      <th>prestige_4</th>\n",
       "    </tr>\n",
       "  </thead>\n",
       "  <tbody>\n",
       "    <tr>\n",
       "      <th>0</th>\n",
       "      <td>0</td>\n",
       "      <td>0</td>\n",
       "      <td>1</td>\n",
       "      <td>0</td>\n",
       "    </tr>\n",
       "    <tr>\n",
       "      <th>1</th>\n",
       "      <td>0</td>\n",
       "      <td>0</td>\n",
       "      <td>1</td>\n",
       "      <td>0</td>\n",
       "    </tr>\n",
       "    <tr>\n",
       "      <th>2</th>\n",
       "      <td>1</td>\n",
       "      <td>0</td>\n",
       "      <td>0</td>\n",
       "      <td>0</td>\n",
       "    </tr>\n",
       "    <tr>\n",
       "      <th>3</th>\n",
       "      <td>0</td>\n",
       "      <td>0</td>\n",
       "      <td>0</td>\n",
       "      <td>1</td>\n",
       "    </tr>\n",
       "    <tr>\n",
       "      <th>4</th>\n",
       "      <td>0</td>\n",
       "      <td>0</td>\n",
       "      <td>0</td>\n",
       "      <td>1</td>\n",
       "    </tr>\n",
       "  </tbody>\n",
       "</table>\n",
       "</div>"
      ],
      "text/plain": [
       "   prestige_1  prestige_2  prestige_3  prestige_4\n",
       "0           0           0           1           0\n",
       "1           0           0           1           0\n",
       "2           1           0           0           0\n",
       "3           0           0           0           1\n",
       "4           0           0           0           1"
      ]
     },
     "execution_count": 7,
     "metadata": {},
     "output_type": "execute_result"
    }
   ],
   "source": [
    "dummy_ranks = pd.get_dummies(df.prestige, prefix='prestige')\n",
    "dummy_ranks.columns = ['prestige_1', 'prestige_2', 'prestige_3', 'prestige_4']\n",
    "\n",
    "dummy_ranks.head()"
   ]
  },
  {
   "cell_type": "markdown",
   "metadata": {},
   "source": [
    "#### Question 2.2. When modeling our class variables, how many do we need?"
   ]
  },
  {
   "cell_type": "markdown",
   "metadata": {},
   "source": [
    "Answer: I don't understand the question.  How many dummy variables do we need? \n",
    "It depends on the situation.  In the example in class, we chose to have four, because majority of the population fell into 1-4.  In this example, we should include all four prestiges, because they all have good volume. "
   ]
  },
  {
   "cell_type": "markdown",
   "metadata": {},
   "source": [
    "## Part 3. Hand calculating odds ratios\n",
    "\n",
    "Develop your intuition about expected outcomes by hand calculating odds ratios."
   ]
  },
  {
   "cell_type": "code",
   "execution_count": 8,
   "metadata": {
    "collapsed": false
   },
   "outputs": [
    {
     "name": "stdout",
     "output_type": "stream",
     "text": [
      "   admit  gre   gpa  prestige_1  prestige_2  prestige_3  prestige_4\n",
      "0      0  380  3.61           0           0           1           0\n",
      "1      1  660  3.67           0           0           1           0\n",
      "2      1  800  4.00           1           0           0           0\n",
      "3      1  640  3.19           0           0           0           1\n",
      "4      0  520  2.93           0           0           0           1\n"
     ]
    }
   ],
   "source": [
    "cols_to_keep = ['admit', 'gre', 'gpa']\n",
    "handCalc = df[cols_to_keep].join(dummy_ranks.ix[:, 'prestige_1':])\n",
    "print handCalc.head()"
   ]
  },
  {
   "cell_type": "code",
   "execution_count": 9,
   "metadata": {
    "collapsed": false
   },
   "outputs": [
    {
     "data": {
      "text/html": [
       "<div>\n",
       "<table border=\"1\" class=\"dataframe\">\n",
       "  <thead>\n",
       "    <tr style=\"text-align: right;\">\n",
       "      <th>admit</th>\n",
       "      <th>0</th>\n",
       "      <th>1</th>\n",
       "      <th>All</th>\n",
       "    </tr>\n",
       "    <tr>\n",
       "      <th>prestige_1</th>\n",
       "      <th></th>\n",
       "      <th></th>\n",
       "      <th></th>\n",
       "    </tr>\n",
       "  </thead>\n",
       "  <tbody>\n",
       "    <tr>\n",
       "      <th>0.0</th>\n",
       "      <td>243</td>\n",
       "      <td>93</td>\n",
       "      <td>336</td>\n",
       "    </tr>\n",
       "    <tr>\n",
       "      <th>1.0</th>\n",
       "      <td>28</td>\n",
       "      <td>33</td>\n",
       "      <td>61</td>\n",
       "    </tr>\n",
       "    <tr>\n",
       "      <th>All</th>\n",
       "      <td>271</td>\n",
       "      <td>126</td>\n",
       "      <td>397</td>\n",
       "    </tr>\n",
       "  </tbody>\n",
       "</table>\n",
       "</div>"
      ],
      "text/plain": [
       "admit         0    1  All\n",
       "prestige_1               \n",
       "0.0         243   93  336\n",
       "1.0          28   33   61\n",
       "All         271  126  397"
      ]
     },
     "execution_count": 9,
     "metadata": {},
     "output_type": "execute_result"
    }
   ],
   "source": [
    "# crosstab prestige 1 admission\n",
    "# frequency table cutting prestige and whether or not someone was admitted\n",
    "\n",
    "pd.crosstab(handCalc.prestige_1, df.admit, margins=True)"
   ]
  },
  {
   "cell_type": "code",
   "execution_count": 40,
   "metadata": {
    "collapsed": false
   },
   "outputs": [
    {
     "data": {
      "text/html": [
       "<div>\n",
       "<table border=\"1\" class=\"dataframe\">\n",
       "  <thead>\n",
       "    <tr style=\"text-align: right;\">\n",
       "      <th>admit</th>\n",
       "      <th>0</th>\n",
       "      <th>1</th>\n",
       "      <th>All</th>\n",
       "    </tr>\n",
       "    <tr>\n",
       "      <th>prestige_2</th>\n",
       "      <th></th>\n",
       "      <th></th>\n",
       "      <th></th>\n",
       "    </tr>\n",
       "  </thead>\n",
       "  <tbody>\n",
       "    <tr>\n",
       "      <th>0.0</th>\n",
       "      <td>176</td>\n",
       "      <td>73</td>\n",
       "      <td>249</td>\n",
       "    </tr>\n",
       "    <tr>\n",
       "      <th>1.0</th>\n",
       "      <td>95</td>\n",
       "      <td>53</td>\n",
       "      <td>148</td>\n",
       "    </tr>\n",
       "    <tr>\n",
       "      <th>All</th>\n",
       "      <td>271</td>\n",
       "      <td>126</td>\n",
       "      <td>397</td>\n",
       "    </tr>\n",
       "  </tbody>\n",
       "</table>\n",
       "</div>"
      ],
      "text/plain": [
       "admit         0    1  All\n",
       "prestige_2               \n",
       "0.0         176   73  249\n",
       "1.0          95   53  148\n",
       "All         271  126  397"
      ]
     },
     "execution_count": 40,
     "metadata": {},
     "output_type": "execute_result"
    }
   ],
   "source": [
    "\n",
    "pd.crosstab(handCalc.prestige_2, df.admit, margins=True)"
   ]
  },
  {
   "cell_type": "markdown",
   "metadata": {},
   "source": [
    "#### Question 3.1. Use the cross tab above to calculate the odds of being admitted to grad school if you attended a #1 ranked college."
   ]
  },
  {
   "cell_type": "code",
   "execution_count": 10,
   "metadata": {
    "collapsed": false
   },
   "outputs": [
    {
     "ename": "SyntaxError",
     "evalue": "invalid syntax (<ipython-input-10-d6698f7865b2>, line 1)",
     "output_type": "error",
     "traceback": [
      "\u001b[0;36m  File \u001b[0;32m\"<ipython-input-10-d6698f7865b2>\"\u001b[0;36m, line \u001b[0;32m1\u001b[0m\n\u001b[0;31m    33/61 = 54%\u001b[0m\n\u001b[0m               ^\u001b[0m\n\u001b[0;31mSyntaxError\u001b[0m\u001b[0;31m:\u001b[0m invalid syntax\n"
     ]
    }
   ],
   "source": [
    "33/61 = 54%"
   ]
  },
  {
   "cell_type": "markdown",
   "metadata": {},
   "source": [
    "#### Question 3.2. Now calculate the odds of admission if you did not attend a #1 ranked college."
   ]
  },
  {
   "cell_type": "code",
   "execution_count": 11,
   "metadata": {
    "collapsed": false
   },
   "outputs": [
    {
     "ename": "SyntaxError",
     "evalue": "invalid syntax (<ipython-input-11-547998c48c68>, line 1)",
     "output_type": "error",
     "traceback": [
      "\u001b[0;36m  File \u001b[0;32m\"<ipython-input-11-547998c48c68>\"\u001b[0;36m, line \u001b[0;32m1\u001b[0m\n\u001b[0;31m    93/336 = 28%\u001b[0m\n\u001b[0m                ^\u001b[0m\n\u001b[0;31mSyntaxError\u001b[0m\u001b[0;31m:\u001b[0m invalid syntax\n"
     ]
    }
   ],
   "source": [
    "93/336 = 28%"
   ]
  },
  {
   "cell_type": "markdown",
   "metadata": {},
   "source": [
    "#### Question 3.3. Calculate the odds ratio."
   ]
  },
  {
   "cell_type": "code",
   "execution_count": null,
   "metadata": {
    "collapsed": true
   },
   "outputs": [],
   "source": [
    "the total of the odds ratio for the acceptance rate is 126/397 = 32% "
   ]
  },
  {
   "cell_type": "markdown",
   "metadata": {},
   "source": [
    "#### Question 3.4. Write this finding in a sentenance:"
   ]
  },
  {
   "cell_type": "markdown",
   "metadata": {},
   "source": [
    "Answer: Prestige 1 applicants have higher acceptance rate than the rest of the applicants "
   ]
  },
  {
   "cell_type": "markdown",
   "metadata": {},
   "source": [
    "#### Question 3.5. Print the cross tab for prestige_4."
   ]
  },
  {
   "cell_type": "code",
   "execution_count": 12,
   "metadata": {
    "collapsed": false
   },
   "outputs": [
    {
     "data": {
      "text/html": [
       "<div>\n",
       "<table border=\"1\" class=\"dataframe\">\n",
       "  <thead>\n",
       "    <tr style=\"text-align: right;\">\n",
       "      <th>admit</th>\n",
       "      <th>0</th>\n",
       "      <th>1</th>\n",
       "      <th>All</th>\n",
       "    </tr>\n",
       "    <tr>\n",
       "      <th>prestige_4</th>\n",
       "      <th></th>\n",
       "      <th></th>\n",
       "      <th></th>\n",
       "    </tr>\n",
       "  </thead>\n",
       "  <tbody>\n",
       "    <tr>\n",
       "      <th>0.0</th>\n",
       "      <td>216</td>\n",
       "      <td>114</td>\n",
       "      <td>330</td>\n",
       "    </tr>\n",
       "    <tr>\n",
       "      <th>1.0</th>\n",
       "      <td>55</td>\n",
       "      <td>12</td>\n",
       "      <td>67</td>\n",
       "    </tr>\n",
       "    <tr>\n",
       "      <th>All</th>\n",
       "      <td>271</td>\n",
       "      <td>126</td>\n",
       "      <td>397</td>\n",
       "    </tr>\n",
       "  </tbody>\n",
       "</table>\n",
       "</div>"
      ],
      "text/plain": [
       "admit         0    1  All\n",
       "prestige_4               \n",
       "0.0         216  114  330\n",
       "1.0          55   12   67\n",
       "All         271  126  397"
      ]
     },
     "execution_count": 12,
     "metadata": {},
     "output_type": "execute_result"
    }
   ],
   "source": [
    "pd.crosstab(handCalc.prestige_4, df.admit, margins=True)"
   ]
  },
  {
   "cell_type": "markdown",
   "metadata": {},
   "source": [
    "#### Question 3.6. Calculate the OR."
   ]
  },
  {
   "cell_type": "code",
   "execution_count": null,
   "metadata": {
    "collapsed": false
   },
   "outputs": [],
   "source": [
    "12/67 = 18%"
   ]
  },
  {
   "cell_type": "markdown",
   "metadata": {},
   "source": [
    "#### Question 3.7. Write this finding in a sentence."
   ]
  },
  {
   "cell_type": "markdown",
   "metadata": {},
   "source": [
    "Answer: Low acceptance rate for this group of applicants compare to the aveage acceptance rate 32%."
   ]
  },
  {
   "cell_type": "markdown",
   "metadata": {},
   "source": [
    "## Part 4. Analysis"
   ]
  },
  {
   "cell_type": "code",
   "execution_count": 24,
   "metadata": {
    "collapsed": false
   },
   "outputs": [
    {
     "name": "stdout",
     "output_type": "stream",
     "text": [
      "   admit  gre   gpa  prestige_1  prestige_2  prestige_3  prestige_4\n",
      "0      0  380  3.61           0           0           1           0\n",
      "1      1  660  3.67           0           0           1           0\n",
      "2      1  800  4.00           1           0           0           0\n",
      "3      1  640  3.19           0           0           0           1\n",
      "4      0  520  2.93           0           0           0           1\n"
     ]
    }
   ],
   "source": [
    "# create a clean data frame for the regression\n",
    "cols_to_keep = ['admit', 'gre', 'gpa']\n",
    "data = df[cols_to_keep].join(dummy_ranks.ix[:, 'prestige_1':])\n",
    "print data.head()"
   ]
  },
  {
   "cell_type": "markdown",
   "metadata": {},
   "source": [
    "We're going to add a constant term for our Logistic Regression.  The statsmodels function we're going to be using requires that intercepts/constants are specified explicitly."
   ]
  },
  {
   "cell_type": "code",
   "execution_count": 15,
   "metadata": {
    "collapsed": false
   },
   "outputs": [],
   "source": [
    "# manually add the intercept\n",
    "data['intercept'] = 1.0"
   ]
  },
  {
   "cell_type": "markdown",
   "metadata": {},
   "source": [
    " Question 4.1. Set the covariates to a variable called train_cols."
   ]
  },
  {
   "cell_type": "code",
   "execution_count": 29,
   "metadata": {
    "collapsed": false
   },
   "outputs": [],
   "source": [
    "train_cols = data[ ['gpa', 'gre', 'prestige_1','prestige_2','prestige_3','prestige_4'] ]"
   ]
  },
  {
   "cell_type": "markdown",
   "metadata": {},
   "source": [
    "#### Question 4.2. Fit the model."
   ]
  },
  {
   "cell_type": "code",
   "execution_count": 30,
   "metadata": {
    "collapsed": false
   },
   "outputs": [
    {
     "data": {
      "text/plain": [
       "LogisticRegression(C=1.0, class_weight=None, dual=False, fit_intercept=True,\n",
       "          intercept_scaling=1, max_iter=100, multi_class='ovr', n_jobs=1,\n",
       "          penalty='l2', random_state=None, solver='liblinear', tol=0.0001,\n",
       "          verbose=0, warm_start=False)"
      ]
     },
     "execution_count": 30,
     "metadata": {},
     "output_type": "execute_result"
    }
   ],
   "source": [
    "model_prestige= linear_model.LogisticRegression()\n",
    "model_prestige.fit(train_cols, df.admit)"
   ]
  },
  {
   "cell_type": "markdown",
   "metadata": {},
   "source": [
    "#### Question 4.3. Print the summary results."
   ]
  },
  {
   "cell_type": "code",
   "execution_count": 45,
   "metadata": {
    "collapsed": false
   },
   "outputs": [
    {
     "name": "stdout",
     "output_type": "stream",
     "text": [
      "[[ 0.19596439  0.00172658  0.35943456 -0.31929464 -0.88821548 -1.10459122]]\n",
      "[-1.95266678]\n"
     ]
    },
    {
     "data": {
      "text/html": [
       "<table class=\"simpletable\">\n",
       "<caption>OLS Regression Results</caption>\n",
       "<tr>\n",
       "  <th>Dep. Variable:</th>          <td>admit</td>      <th>  R-squared:         </th> <td>   0.099</td>\n",
       "</tr>\n",
       "<tr>\n",
       "  <th>Model:</th>                   <td>OLS</td>       <th>  Adj. R-squared:    </th> <td>   0.087</td>\n",
       "</tr>\n",
       "<tr>\n",
       "  <th>Method:</th>             <td>Least Squares</td>  <th>  F-statistic:       </th> <td>   8.594</td>\n",
       "</tr>\n",
       "<tr>\n",
       "  <th>Date:</th>             <td>Tue, 29 Mar 2016</td> <th>  Prob (F-statistic):</th> <td>9.71e-08</td>\n",
       "</tr>\n",
       "<tr>\n",
       "  <th>Time:</th>                 <td>17:24:34</td>     <th>  Log-Likelihood:    </th> <td> -239.02</td>\n",
       "</tr>\n",
       "<tr>\n",
       "  <th>No. Observations:</th>      <td>   397</td>      <th>  AIC:               </th> <td>   490.0</td>\n",
       "</tr>\n",
       "<tr>\n",
       "  <th>Df Residuals:</th>          <td>   391</td>      <th>  BIC:               </th> <td>   513.9</td>\n",
       "</tr>\n",
       "<tr>\n",
       "  <th>Df Model:</th>              <td>     5</td>      <th>                     </th>     <td> </td>   \n",
       "</tr>\n",
       "<tr>\n",
       "  <th>Covariance Type:</th>      <td>nonrobust</td>    <th>                     </th>     <td> </td>   \n",
       "</tr>\n",
       "</table>\n",
       "<table class=\"simpletable\">\n",
       "<tr>\n",
       "       <td></td>         <th>coef</th>     <th>std err</th>      <th>t</th>      <th>P>|t|</th> <th>[95.0% Conf. Int.]</th> \n",
       "</tr>\n",
       "<tr>\n",
       "  <th>gpa</th>        <td>    0.1508</td> <td>    0.064</td> <td>    2.349</td> <td> 0.019</td> <td>    0.025     0.277</td>\n",
       "</tr>\n",
       "<tr>\n",
       "  <th>gre</th>        <td>    0.0004</td> <td>    0.000</td> <td>    1.997</td> <td> 0.047</td> <td> 6.48e-06     0.001</td>\n",
       "</tr>\n",
       "<tr>\n",
       "  <th>prestige_1</th> <td>   -0.2377</td> <td>    0.217</td> <td>   -1.095</td> <td> 0.274</td> <td>   -0.665     0.189</td>\n",
       "</tr>\n",
       "<tr>\n",
       "  <th>prestige_2</th> <td>   -0.4013</td> <td>    0.207</td> <td>   -1.934</td> <td> 0.054</td> <td>   -0.809     0.007</td>\n",
       "</tr>\n",
       "<tr>\n",
       "  <th>prestige_3</th> <td>   -0.5287</td> <td>    0.211</td> <td>   -2.508</td> <td> 0.013</td> <td>   -0.943    -0.114</td>\n",
       "</tr>\n",
       "<tr>\n",
       "  <th>prestige_4</th> <td>   -0.5617</td> <td>    0.208</td> <td>   -2.704</td> <td> 0.007</td> <td>   -0.970    -0.153</td>\n",
       "</tr>\n",
       "</table>\n",
       "<table class=\"simpletable\">\n",
       "<tr>\n",
       "  <th>Omnibus:</th>       <td>152.312</td> <th>  Durbin-Watson:     </th> <td>   1.946</td>\n",
       "</tr>\n",
       "<tr>\n",
       "  <th>Prob(Omnibus):</th> <td> 0.000</td>  <th>  Jarque-Bera (JB):  </th> <td>  50.314</td>\n",
       "</tr>\n",
       "<tr>\n",
       "  <th>Skew:</th>          <td> 0.678</td>  <th>  Prob(JB):          </th> <td>1.19e-11</td>\n",
       "</tr>\n",
       "<tr>\n",
       "  <th>Kurtosis:</th>      <td> 1.904</td>  <th>  Cond. No.          </th> <td>1.12e+04</td>\n",
       "</tr>\n",
       "</table>"
      ],
      "text/plain": [
       "<class 'statsmodels.iolib.summary.Summary'>\n",
       "\"\"\"\n",
       "                            OLS Regression Results                            \n",
       "==============================================================================\n",
       "Dep. Variable:                  admit   R-squared:                       0.099\n",
       "Model:                            OLS   Adj. R-squared:                  0.087\n",
       "Method:                 Least Squares   F-statistic:                     8.594\n",
       "Date:                Tue, 29 Mar 2016   Prob (F-statistic):           9.71e-08\n",
       "Time:                        17:24:34   Log-Likelihood:                -239.02\n",
       "No. Observations:                 397   AIC:                             490.0\n",
       "Df Residuals:                     391   BIC:                             513.9\n",
       "Df Model:                           5                                         \n",
       "Covariance Type:            nonrobust                                         \n",
       "==============================================================================\n",
       "                 coef    std err          t      P>|t|      [95.0% Conf. Int.]\n",
       "------------------------------------------------------------------------------\n",
       "gpa            0.1508      0.064      2.349      0.019         0.025     0.277\n",
       "gre            0.0004      0.000      1.997      0.047      6.48e-06     0.001\n",
       "prestige_1    -0.2377      0.217     -1.095      0.274        -0.665     0.189\n",
       "prestige_2    -0.4013      0.207     -1.934      0.054        -0.809     0.007\n",
       "prestige_3    -0.5287      0.211     -2.508      0.013        -0.943    -0.114\n",
       "prestige_4    -0.5617      0.208     -2.704      0.007        -0.970    -0.153\n",
       "==============================================================================\n",
       "Omnibus:                      152.312   Durbin-Watson:                   1.946\n",
       "Prob(Omnibus):                  0.000   Jarque-Bera (JB):               50.314\n",
       "Skew:                           0.678   Prob(JB):                     1.19e-11\n",
       "Kurtosis:                       1.904   Cond. No.                     1.12e+04\n",
       "==============================================================================\n",
       "\n",
       "Warnings:\n",
       "[1] Standard Errors assume that the covariance matrix of the errors is correctly specified.\n",
       "[2] The condition number is large, 1.12e+04. This might indicate that there are\n",
       "strong multicollinearity or other numerical problems.\n",
       "\"\"\""
      ]
     },
     "execution_count": 45,
     "metadata": {},
     "output_type": "execute_result"
    }
   ],
   "source": [
    "print model_prestige.coef_\n",
    "print model_prestige.intercept_\n",
    "model_prestige.score(train_cols, df.admit)\n",
    "\n",
    "fit = sm.OLS(df.admit, train_cols).fit()\n",
    "fit.summary()\n",
    "\n",
    "#zip(train_cols.columns.values, feature_selection.f_regression(train_cols, df.admit)[1])"
   ]
  },
  {
   "cell_type": "markdown",
   "metadata": {},
   "source": [
    "#### Question 4.4. Calculate the odds ratios of the coeffincients and their 95% CI intervals\n",
    "\n",
    "hint 1: np.exp(X)\n",
    "\n",
    "hint 2: conf['OR'] = params\n",
    "\n",
    "        conf.columns = ['2.5%', '97.5%', 'OR']"
   ]
  },
  {
   "cell_type": "code",
   "execution_count": null,
   "metadata": {
    "collapsed": false
   },
   "outputs": [],
   "source": [
    "i dont understand the question. what does the odds ratios of the coeffincients represent?"
   ]
  },
  {
   "cell_type": "code",
   "execution_count": 43,
   "metadata": {
    "collapsed": false
   },
   "outputs": [
    {
     "data": {
      "text/plain": [
       "array([[ 1.21648359,  1.00172808,  1.43251919,  0.72666141,  0.41138923,\n",
       "         0.3313463 ]])"
      ]
     },
     "execution_count": 43,
     "metadata": {},
     "output_type": "execute_result"
    }
   ],
   "source": [
    "np.exp(model_prestige.coef_)"
   ]
  },
  {
   "cell_type": "code",
   "execution_count": null,
   "metadata": {
    "collapsed": false
   },
   "outputs": [],
   "source": []
  },
  {
   "cell_type": "markdown",
   "metadata": {},
   "source": [
    "#### Question 4.5. Interpret the OR of Prestige_2."
   ]
  },
  {
   "cell_type": "code",
   "execution_count": null,
   "metadata": {
    "collapsed": true
   },
   "outputs": [],
   "source": [
    "e^.72666141 = 2.068"
   ]
  },
  {
   "cell_type": "markdown",
   "metadata": {},
   "source": [
    "Answer: 2.068"
   ]
  },
  {
   "cell_type": "markdown",
   "metadata": {},
   "source": [
    "#### Question 4.6. Interpret the OR of GPA."
   ]
  },
  {
   "cell_type": "markdown",
   "metadata": {},
   "source": [
    "Answer: e^1.21648 = 3.375"
   ]
  },
  {
   "cell_type": "markdown",
   "metadata": {},
   "source": [
    "## Part 5: Predicted probablities\n"
   ]
  },
  {
   "cell_type": "markdown",
   "metadata": {},
   "source": [
    "As a way of evaluating our classifier, we're going to recreate the dataset with every logical combination of input values.  This will allow us to see how the predicted probability of admission increases/decreases across different variables.  First we're going to generate the combinations using a helper function called cartesian (above).\n",
    "\n",
    "We're going to use np.linspace to create a range of values for \"gre\" and \"gpa\".  This creates a range of linearly spaced values from a specified min and maximum value--in our case just the min/max observed values."
   ]
  },
  {
   "cell_type": "code",
   "execution_count": 50,
   "metadata": {
    "collapsed": true
   },
   "outputs": [],
   "source": [
    "def cartesian(arrays, out=None):\n",
    "    \"\"\"\n",
    "    Generate a cartesian product of input arrays.\n",
    "    Parameters\n",
    "    ----------\n",
    "    arrays : list of array-like\n",
    "        1-D arrays to form the cartesian product of.\n",
    "    out : ndarray\n",
    "        Array to place the cartesian product in.\n",
    "    Returns\n",
    "    -------\n",
    "    out : ndarray\n",
    "        2-D array of shape (M, len(arrays)) containing cartesian products\n",
    "        formed of input arrays.\n",
    "    Examples\n",
    "    --------\n",
    "    >>> cartesian(([1, 2, 3], [4, 5], [6, 7]))\n",
    "    array([[1, 4, 6],\n",
    "           [1, 4, 7],\n",
    "           [1, 5, 6],\n",
    "           [1, 5, 7],\n",
    "           [2, 4, 6],\n",
    "           [2, 4, 7],\n",
    "           [2, 5, 6],\n",
    "           [2, 5, 7],\n",
    "           [3, 4, 6],\n",
    "           [3, 4, 7],\n",
    "           [3, 5, 6],\n",
    "           [3, 5, 7]])\n",
    "    \"\"\"\n",
    "\n",
    "    arrays = [np.asarray(x) for x in arrays]\n",
    "    dtype = arrays[0].dtype\n",
    "\n",
    "    n = np.prod([x.size for x in arrays])\n",
    "    if out is None:\n",
    "        out = np.zeros([n, len(arrays)], dtype=dtype)\n",
    "\n",
    "    m = n / arrays[0].size\n",
    "    out[:,0] = np.repeat(arrays[0], m)\n",
    "    if arrays[1:]:\n",
    "        cartesian(arrays[1:], out=out[0:m,1:])\n",
    "        for j in xrange(1, arrays[0].size):\n",
    "            out[j*m:(j+1)*m,1:] = out[0:m,1:]\n",
    "    return out"
   ]
  },
  {
   "cell_type": "code",
   "execution_count": 51,
   "metadata": {
    "collapsed": false
   },
   "outputs": [
    {
     "name": "stdout",
     "output_type": "stream",
     "text": [
      "[ 220.          284.44444444  348.88888889  413.33333333  477.77777778\n",
      "  542.22222222  606.66666667  671.11111111  735.55555556  800.        ]\n",
      "[ 2.26        2.45333333  2.64666667  2.84        3.03333333  3.22666667\n",
      "  3.42        3.61333333  3.80666667  4.        ]\n"
     ]
    }
   ],
   "source": [
    "# instead of generating all possible values of GRE and GPA, we're going\n",
    "# to use an evenly spaced range of 10 values from the min to the max\n",
    "gres = np.linspace(data['gre'].min(), data['gre'].max(), 10)\n",
    "\n",
    "print gres\n",
    "# array([ 220.        ,  284.44444444,  348.88888889,  413.33333333,\n",
    "#         477.77777778,  542.22222222,  606.66666667,  671.11111111,\n",
    "#         735.55555556,  800.        ])\n",
    "\n",
    "gpas = np.linspace(data['gpa'].min(), data['gpa'].max(), 10)\n",
    "\n",
    "print gpas\n",
    "# array([ 2.26      ,  2.45333333,  2.64666667,  2.84      ,  3.03333333,\n",
    "#         3.22666667,  3.42      ,  3.61333333,  3.80666667,  4.        ])\n",
    "\n",
    "# enumerate all possibilities\n",
    "combos = pd.DataFrame(cartesian([gres, gpas, [1, 2, 3, 4], [1.]]))"
   ]
  },
  {
   "cell_type": "markdown",
   "metadata": {},
   "source": [
    "#### Question 5.1. Recreate the dummy variables."
   ]
  },
  {
   "cell_type": "code",
   "execution_count": 62,
   "metadata": {
    "collapsed": false
   },
   "outputs": [
    {
     "name": "stdout",
     "output_type": "stream",
     "text": [
      "[ 2.26        2.45333333  2.64666667  2.84        3.03333333  3.22666667\n",
      "  3.42        3.61333333  3.80666667  4.        ]\n",
      "[ 220.          284.44444444  348.88888889  413.33333333  477.77777778\n",
      "  542.22222222  606.66666667  671.11111111  735.55555556  800.        ]\n",
      "   admit  gres_1  gres_2  gres_3  gres_4  gres_5  gres_6  gres_7  gres_8  \\\n",
      "0      0       1       0       0       0       0       0       0       0   \n",
      "1      1       0       1       0       0       0       0       0       0   \n",
      "2      1       0       0       1       0       0       0       0       0   \n",
      "3      1       0       0       0       1       0       0       0       0   \n",
      "4      0       0       0       0       0       1       0       0       0   \n",
      "\n",
      "   gres_9   ...     gpas_1  gpas_2  gpas_3  gpas_4  gpas_5  gpas_6  gpas_7  \\\n",
      "0       0   ...          1       0       0       0       0       0       0   \n",
      "1       0   ...          0       1       0       0       0       0       0   \n",
      "2       0   ...          0       0       1       0       0       0       0   \n",
      "3       0   ...          0       0       0       1       0       0       0   \n",
      "4       0   ...          0       0       0       0       1       0       0   \n",
      "\n",
      "   gpas_8  gpas_9  gpas_10  \n",
      "0       0       0        0  \n",
      "1       0       0        0  \n",
      "2       0       0        0  \n",
      "3       0       0        0  \n",
      "4       0       0        0  \n",
      "\n",
      "[5 rows x 21 columns]\n"
     ]
    }
   ],
   "source": [
    "# recreate the dummy variables\n",
    "\n",
    "# keep only what we need for making predictions\n",
    "\n",
    "print gpas\n",
    "print gres\n",
    "\n",
    "dummy_gpas = pd.get_dummies(gpas, prefix='gpas')\n",
    "dummy_gpas.columns = ['gpas_1', 'gpas_2', 'gpas_3', 'gpas_4', 'gpas_5'\n",
    "                      , 'gpas_6', 'gpas_7', 'gpas_8', 'gpas_9', 'gpas_10']\n",
    "\n",
    "dummy_gres = pd.get_dummies(gres, prefix='gres')\n",
    "dummy_gres.columns = ['gres_1', 'gres_2', 'gres_3', 'gres_4', 'gres_5'\n",
    "                      , 'gres_6', 'gres_7', 'gres_8', 'gres_9', 'gres_10']\n",
    "\n",
    "cols_to_keep = ['admit']\n",
    "data = df[cols_to_keep].join(dummy_gres.ix[:, 'gres_1':]).join(dummy_gpas.ix[:, 'gpas_1':])\n",
    "print data.head()\n",
    "\n"
   ]
  },
  {
   "cell_type": "markdown",
   "metadata": {},
   "source": [
    "#### Question 5.2. Make predictions on the enumerated dataset."
   ]
  },
  {
   "cell_type": "code",
   "execution_count": 64,
   "metadata": {
    "collapsed": false
   },
   "outputs": [
    {
     "ename": "TypeError",
     "evalue": "unhashable type: 'list'",
     "output_type": "error",
     "traceback": [
      "\u001b[0;31m---------------------------------------------------------------------------\u001b[0m",
      "\u001b[0;31mTypeError\u001b[0m                                 Traceback (most recent call last)",
      "\u001b[0;32m<ipython-input-64-741c79ead0e9>\u001b[0m in \u001b[0;36m<module>\u001b[0;34m()\u001b[0m\n\u001b[1;32m      1\u001b[0m X = data[ [['gpas_1', 'gpas_2', 'gpas_3', 'gpas_4', 'gpas_5'\n\u001b[1;32m      2\u001b[0m                       \u001b[0;34m,\u001b[0m \u001b[0;34m'gpas_6'\u001b[0m\u001b[0;34m,\u001b[0m \u001b[0;34m'gpas_7'\u001b[0m\u001b[0;34m,\u001b[0m \u001b[0;34m'gpas_8'\u001b[0m\u001b[0;34m,\u001b[0m \u001b[0;34m'gpas_9'\u001b[0m\u001b[0;34m,\u001b[0m \u001b[0;34m'gpas_10'\u001b[0m\u001b[0;34m,\u001b[0m \u001b[0;34m'gres_1'\u001b[0m\u001b[0;34m,\u001b[0m \u001b[0;34m'gres_2'\u001b[0m\u001b[0;34m,\u001b[0m \u001b[0;34m'gres_3'\u001b[0m\u001b[0;34m,\u001b[0m \u001b[0;34m'gres_4'\u001b[0m\u001b[0;34m,\u001b[0m \u001b[0;34m'gres_5'\u001b[0m\u001b[0;34m\u001b[0m\u001b[0m\n\u001b[0;32m----> 3\u001b[0;31m                       , 'gres_6', 'gres_7', 'gres_8', 'gres_9', 'gres_10']\n\u001b[0m\u001b[1;32m      4\u001b[0m \u001b[0;34m\u001b[0m\u001b[0m\n\u001b[1;32m      5\u001b[0m ] ]\n",
      "\u001b[0;32m//anaconda/lib/python2.7/site-packages/pandas/core/frame.pyc\u001b[0m in \u001b[0;36m__getitem__\u001b[0;34m(self, key)\u001b[0m\n\u001b[1;32m   1961\u001b[0m         \u001b[0;32mif\u001b[0m \u001b[0misinstance\u001b[0m\u001b[0;34m(\u001b[0m\u001b[0mkey\u001b[0m\u001b[0;34m,\u001b[0m \u001b[0;34m(\u001b[0m\u001b[0mSeries\u001b[0m\u001b[0;34m,\u001b[0m \u001b[0mnp\u001b[0m\u001b[0;34m.\u001b[0m\u001b[0mndarray\u001b[0m\u001b[0;34m,\u001b[0m \u001b[0mIndex\u001b[0m\u001b[0;34m,\u001b[0m \u001b[0mlist\u001b[0m\u001b[0;34m)\u001b[0m\u001b[0;34m)\u001b[0m\u001b[0;34m:\u001b[0m\u001b[0;34m\u001b[0m\u001b[0m\n\u001b[1;32m   1962\u001b[0m             \u001b[0;31m# either boolean or fancy integer index\u001b[0m\u001b[0;34m\u001b[0m\u001b[0;34m\u001b[0m\u001b[0m\n\u001b[0;32m-> 1963\u001b[0;31m             \u001b[0;32mreturn\u001b[0m \u001b[0mself\u001b[0m\u001b[0;34m.\u001b[0m\u001b[0m_getitem_array\u001b[0m\u001b[0;34m(\u001b[0m\u001b[0mkey\u001b[0m\u001b[0;34m)\u001b[0m\u001b[0;34m\u001b[0m\u001b[0m\n\u001b[0m\u001b[1;32m   1964\u001b[0m         \u001b[0;32melif\u001b[0m \u001b[0misinstance\u001b[0m\u001b[0;34m(\u001b[0m\u001b[0mkey\u001b[0m\u001b[0;34m,\u001b[0m \u001b[0mDataFrame\u001b[0m\u001b[0;34m)\u001b[0m\u001b[0;34m:\u001b[0m\u001b[0;34m\u001b[0m\u001b[0m\n\u001b[1;32m   1965\u001b[0m             \u001b[0;32mreturn\u001b[0m \u001b[0mself\u001b[0m\u001b[0;34m.\u001b[0m\u001b[0m_getitem_frame\u001b[0m\u001b[0;34m(\u001b[0m\u001b[0mkey\u001b[0m\u001b[0;34m)\u001b[0m\u001b[0;34m\u001b[0m\u001b[0m\n",
      "\u001b[0;32m//anaconda/lib/python2.7/site-packages/pandas/core/frame.pyc\u001b[0m in \u001b[0;36m_getitem_array\u001b[0;34m(self, key)\u001b[0m\n\u001b[1;32m   2005\u001b[0m             \u001b[0;32mreturn\u001b[0m \u001b[0mself\u001b[0m\u001b[0;34m.\u001b[0m\u001b[0mtake\u001b[0m\u001b[0;34m(\u001b[0m\u001b[0mindexer\u001b[0m\u001b[0;34m,\u001b[0m \u001b[0maxis\u001b[0m\u001b[0;34m=\u001b[0m\u001b[0;36m0\u001b[0m\u001b[0;34m,\u001b[0m \u001b[0mconvert\u001b[0m\u001b[0;34m=\u001b[0m\u001b[0mFalse\u001b[0m\u001b[0;34m)\u001b[0m\u001b[0;34m\u001b[0m\u001b[0m\n\u001b[1;32m   2006\u001b[0m         \u001b[0;32melse\u001b[0m\u001b[0;34m:\u001b[0m\u001b[0;34m\u001b[0m\u001b[0m\n\u001b[0;32m-> 2007\u001b[0;31m             \u001b[0mindexer\u001b[0m \u001b[0;34m=\u001b[0m \u001b[0mself\u001b[0m\u001b[0;34m.\u001b[0m\u001b[0mix\u001b[0m\u001b[0;34m.\u001b[0m\u001b[0m_convert_to_indexer\u001b[0m\u001b[0;34m(\u001b[0m\u001b[0mkey\u001b[0m\u001b[0;34m,\u001b[0m \u001b[0maxis\u001b[0m\u001b[0;34m=\u001b[0m\u001b[0;36m1\u001b[0m\u001b[0;34m)\u001b[0m\u001b[0;34m\u001b[0m\u001b[0m\n\u001b[0m\u001b[1;32m   2008\u001b[0m             \u001b[0;32mreturn\u001b[0m \u001b[0mself\u001b[0m\u001b[0;34m.\u001b[0m\u001b[0mtake\u001b[0m\u001b[0;34m(\u001b[0m\u001b[0mindexer\u001b[0m\u001b[0;34m,\u001b[0m \u001b[0maxis\u001b[0m\u001b[0;34m=\u001b[0m\u001b[0;36m1\u001b[0m\u001b[0;34m,\u001b[0m \u001b[0mconvert\u001b[0m\u001b[0;34m=\u001b[0m\u001b[0mTrue\u001b[0m\u001b[0;34m)\u001b[0m\u001b[0;34m\u001b[0m\u001b[0m\n\u001b[1;32m   2009\u001b[0m \u001b[0;34m\u001b[0m\u001b[0m\n",
      "\u001b[0;32m//anaconda/lib/python2.7/site-packages/pandas/core/indexing.pyc\u001b[0m in \u001b[0;36m_convert_to_indexer\u001b[0;34m(self, obj, axis, is_setter)\u001b[0m\n\u001b[1;32m   1138\u001b[0m                     \u001b[0;31m# unique index\u001b[0m\u001b[0;34m\u001b[0m\u001b[0;34m\u001b[0m\u001b[0m\n\u001b[1;32m   1139\u001b[0m                     \u001b[0;32mif\u001b[0m \u001b[0mlabels\u001b[0m\u001b[0;34m.\u001b[0m\u001b[0mis_unique\u001b[0m\u001b[0;34m:\u001b[0m\u001b[0;34m\u001b[0m\u001b[0m\n\u001b[0;32m-> 1140\u001b[0;31m                         \u001b[0mindexer\u001b[0m \u001b[0;34m=\u001b[0m \u001b[0mcheck\u001b[0m \u001b[0;34m=\u001b[0m \u001b[0mlabels\u001b[0m\u001b[0;34m.\u001b[0m\u001b[0mget_indexer\u001b[0m\u001b[0;34m(\u001b[0m\u001b[0mobjarr\u001b[0m\u001b[0;34m)\u001b[0m\u001b[0;34m\u001b[0m\u001b[0m\n\u001b[0m\u001b[1;32m   1141\u001b[0m \u001b[0;34m\u001b[0m\u001b[0m\n\u001b[1;32m   1142\u001b[0m                     \u001b[0;31m# non-unique (dups)\u001b[0m\u001b[0;34m\u001b[0m\u001b[0;34m\u001b[0m\u001b[0m\n",
      "\u001b[0;32m//anaconda/lib/python2.7/site-packages/pandas/core/index.pyc\u001b[0m in \u001b[0;36mget_indexer\u001b[0;34m(self, target, method, limit, tolerance)\u001b[0m\n\u001b[1;32m   1905\u001b[0m                                  'backfill or nearest reindexing')\n\u001b[1;32m   1906\u001b[0m \u001b[0;34m\u001b[0m\u001b[0m\n\u001b[0;32m-> 1907\u001b[0;31m             \u001b[0mindexer\u001b[0m \u001b[0;34m=\u001b[0m \u001b[0mself\u001b[0m\u001b[0;34m.\u001b[0m\u001b[0m_engine\u001b[0m\u001b[0;34m.\u001b[0m\u001b[0mget_indexer\u001b[0m\u001b[0;34m(\u001b[0m\u001b[0mtarget\u001b[0m\u001b[0;34m.\u001b[0m\u001b[0m_values\u001b[0m\u001b[0;34m)\u001b[0m\u001b[0;34m\u001b[0m\u001b[0m\n\u001b[0m\u001b[1;32m   1908\u001b[0m \u001b[0;34m\u001b[0m\u001b[0m\n\u001b[1;32m   1909\u001b[0m         \u001b[0;32mreturn\u001b[0m \u001b[0mcom\u001b[0m\u001b[0;34m.\u001b[0m\u001b[0m_ensure_platform_int\u001b[0m\u001b[0;34m(\u001b[0m\u001b[0mindexer\u001b[0m\u001b[0;34m)\u001b[0m\u001b[0;34m\u001b[0m\u001b[0m\n",
      "\u001b[0;32mpandas/index.pyx\u001b[0m in \u001b[0;36mpandas.index.IndexEngine.get_indexer (pandas/index.c:5840)\u001b[0;34m()\u001b[0m\n",
      "\u001b[0;32mpandas/hashtable.pyx\u001b[0m in \u001b[0;36mpandas.hashtable.PyObjectHashTable.lookup (pandas/hashtable.c:13174)\u001b[0;34m()\u001b[0m\n",
      "\u001b[0;31mTypeError\u001b[0m: unhashable type: 'list'"
     ]
    }
   ],
   "source": [
    "X = data[ [['gpas_1', 'gpas_2', 'gpas_3', 'gpas_4', 'gpas_5'\n",
    "                      , 'gpas_6', 'gpas_7', 'gpas_8', 'gpas_9', 'gpas_10', 'gres_1', 'gres_2', 'gres_3', 'gres_4', 'gres_5'\n",
    "                      , 'gres_6', 'gres_7', 'gres_8', 'gres_9', 'gres_10']\n",
    "\n",
    "] ]\n",
    "y = data['admit']\n",
    "\n",
    "model = linear_model.LinearRegression()\n",
    "model.fit(X,y)\n",
    "\n",
    "print model.intercept_\n",
    "print model.coef_\n",
    "print feature_selection.f_regression(X, y)[1]"
   ]
  },
  {
   "cell_type": "markdown",
   "metadata": {},
   "source": [
    "#### Question 5.3. Interpret findings for the last 4 observations."
   ]
  },
  {
   "cell_type": "markdown",
   "metadata": {},
   "source": [
    "Answer: Not sure"
   ]
  },
  {
   "cell_type": "markdown",
   "metadata": {},
   "source": [
    "## Bonus\n",
    "\n",
    "Plot the probability of being admitted into graduate school, stratified by GPA and GRE score."
   ]
  },
  {
   "cell_type": "code",
   "execution_count": null,
   "metadata": {
    "collapsed": false
   },
   "outputs": [],
   "source": [
    "x = "
   ]
  }
 ],
 "metadata": {
  "kernelspec": {
   "display_name": "Python 2",
   "language": "python",
   "name": "python2"
  },
  "language_info": {
   "codemirror_mode": {
    "name": "ipython",
    "version": 2
   },
   "file_extension": ".py",
   "mimetype": "text/x-python",
   "name": "python",
   "nbconvert_exporter": "python",
   "pygments_lexer": "ipython2",
   "version": "2.7.11"
  }
 },
 "nbformat": 4,
 "nbformat_minor": 0
}
